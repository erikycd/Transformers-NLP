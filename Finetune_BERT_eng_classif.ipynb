{
 "cells": [
  {
   "cell_type": "code",
   "execution_count": 1,
   "id": "661b3cfb",
   "metadata": {},
   "outputs": [
    {
     "data": {
      "text/plain": [
       "'\\nCreated on Wed May 3 13:03:09 2023\\n\\n@author: erikycd\\n\\nTask: Fine-tunning english BERT for text classification\\nModel: Pretrained \\nDataset: Amazon review\\nProcess: \\n    - Activate GPU for Torch\\n    - Loading Model and tokenizer\\n    - Set up special tokens\\n    - Read Data text info\\n    - Text tokenization and pytorch tensor conversion (input_ids, attention_mask)\\n    - DataLoader torch function for batches\\n    - Inference class and function\\n    - Set up hyper-parameters and training stage\\n    - Inference on new data: Conversation\\n    - Saving model and tokenizer\\nSource: nlp12_clean.py\\n\\n'"
      ]
     },
     "execution_count": 1,
     "metadata": {},
     "output_type": "execute_result"
    }
   ],
   "source": [
    "'''\n",
    "Created on Wed May 3 13:03:09 2023\n",
    "\n",
    "@author: erikycd\n",
    "\n",
    "Task: Fine-tunning english BERT for text classification\n",
    "Model: Pretrained \n",
    "Dataset: Amazon review\n",
    "Process: \n",
    "    - Activate GPU for Torch\n",
    "    - Loading Model and tokenizer\n",
    "    - Set up special tokens\n",
    "    - Read Data text info\n",
    "    - Text tokenization and pytorch tensor conversion (input_ids, attention_mask)\n",
    "    - DataLoader torch function for batches\n",
    "    - Inference class and function\n",
    "    - Set up hyper-parameters and training stage\n",
    "    - Inference on new data: Conversation\n",
    "    - Saving model and tokenizer\n",
    "Source: nlp12_clean.py\n",
    "\n",
    "'''"
   ]
  },
  {
   "cell_type": "code",
   "execution_count": 1,
   "id": "b2124c5c",
   "metadata": {},
   "outputs": [],
   "source": [
    "#%% IMPORTING LIBRARIES\n",
    "\n",
    "# from transformers import GPT2LMHeadModel, GPT2Tokenizer, AutoTokenizer, AutoModelForCausalLM\n",
    "from transformers import BertTokenizer, BertModel, BertConfig, BertForSequenceClassification\n",
    "from torch.optim import Adam\n",
    "from torch.utils.data import DataLoader, RandomSampler, TensorDataset\n",
    "import tqdm\n",
    "import torch\n",
    "\n",
    "import pandas as pd\n",
    "import numpy as np\n",
    "import matplotlib.pyplot as plt\n",
    "\n",
    "import os\n",
    "os.environ[\"KMP_DUPLICATE_LIB_OK\"] = \"TRUE\"\n"
   ]
  },
  {
   "cell_type": "code",
   "execution_count": 2,
   "id": "a0f71745",
   "metadata": {},
   "outputs": [
    {
     "name": "stdout",
     "output_type": "stream",
     "text": [
      "GPU is available for Torch\n",
      "Card name:  NVIDIA GeForce RTX 4090\n"
     ]
    }
   ],
   "source": [
    "#%% SETTING UP DEVICE FOR TORCH\n",
    "\n",
    "gpu_torch = torch.cuda.is_available()\n",
    "gpu_name = torch.cuda.get_device_name(0)\n",
    "print(\"GPU is\", \"available for Torch\" if gpu_torch else \"NOT AVAILABLE\")\n",
    "try:\n",
    "    print('Card name: ', gpu_name)\n",
    "except:\n",
    "    None\n",
    "\n",
    "device = \"cuda\" if torch.cuda.is_available() else \"mps\" if torch.backends.mps.is_available() else \"cpu\""
   ]
  },
  {
   "cell_type": "code",
   "execution_count": 3,
   "id": "28fe5a17",
   "metadata": {},
   "outputs": [
    {
     "data": {
      "text/html": [
       "<div>\n",
       "<style scoped>\n",
       "    .dataframe tbody tr th:only-of-type {\n",
       "        vertical-align: middle;\n",
       "    }\n",
       "\n",
       "    .dataframe tbody tr th {\n",
       "        vertical-align: top;\n",
       "    }\n",
       "\n",
       "    .dataframe thead th {\n",
       "        text-align: right;\n",
       "    }\n",
       "</style>\n",
       "<table border=\"1\" class=\"dataframe\">\n",
       "  <thead>\n",
       "    <tr style=\"text-align: right;\">\n",
       "      <th></th>\n",
       "      <th>review</th>\n",
       "      <th>class</th>\n",
       "    </tr>\n",
       "  </thead>\n",
       "  <tbody>\n",
       "    <tr>\n",
       "      <th>0</th>\n",
       "      <td>So there is no way for me to plug it in here i...</td>\n",
       "      <td>0</td>\n",
       "    </tr>\n",
       "    <tr>\n",
       "      <th>1</th>\n",
       "      <td>Good case, Excellent value.</td>\n",
       "      <td>1</td>\n",
       "    </tr>\n",
       "    <tr>\n",
       "      <th>2</th>\n",
       "      <td>Great for the jawbone.</td>\n",
       "      <td>1</td>\n",
       "    </tr>\n",
       "    <tr>\n",
       "      <th>3</th>\n",
       "      <td>Tied to charger for conversations lasting more...</td>\n",
       "      <td>0</td>\n",
       "    </tr>\n",
       "    <tr>\n",
       "      <th>4</th>\n",
       "      <td>The mic is great.</td>\n",
       "      <td>1</td>\n",
       "    </tr>\n",
       "  </tbody>\n",
       "</table>\n",
       "</div>"
      ],
      "text/plain": [
       "                                              review  class\n",
       "0  So there is no way for me to plug it in here i...      0\n",
       "1                        Good case, Excellent value.      1\n",
       "2                             Great for the jawbone.      1\n",
       "3  Tied to charger for conversations lasting more...      0\n",
       "4                                  The mic is great.      1"
      ]
     },
     "execution_count": 3,
     "metadata": {},
     "output_type": "execute_result"
    }
   ],
   "source": [
    "#%% DATA EXPLORATION\n",
    "\n",
    "path = 'C:/Users/erikycd/Downloads/Sentiment analysis dataset/'\n",
    "\n",
    "# Read in data\n",
    "df_amazon = pd.read_csv(path + 'sentiment labelled sentences/amazon_cells_labelled.txt', \n",
    "                         sep = '\\t', \n",
    "                         names = ['review', 'class'])\n",
    "\n",
    "df_amazon.head()"
   ]
  },
  {
   "cell_type": "code",
   "execution_count": 4,
   "id": "7b5344f4",
   "metadata": {},
   "outputs": [
    {
     "name": "stdout",
     "output_type": "stream",
     "text": [
      "<class 'pandas.core.frame.DataFrame'>\n",
      "RangeIndex: 1000 entries, 0 to 999\n",
      "Data columns (total 2 columns):\n",
      " #   Column  Non-Null Count  Dtype \n",
      "---  ------  --------------  ----- \n",
      " 0   review  1000 non-null   object\n",
      " 1   class   1000 non-null   int64 \n",
      "dtypes: int64(1), object(1)\n",
      "memory usage: 15.8+ KB\n",
      "Null values:\n",
      " review    0\n",
      "class     0\n",
      "dtype: int64\n",
      "Styatistic description:\n",
      "             class\n",
      "count  1000.00000\n",
      "mean      0.50000\n",
      "std       0.50025\n",
      "min       0.00000\n",
      "25%       0.00000\n",
      "50%       0.50000\n",
      "75%       1.00000\n",
      "max       1.00000\n"
     ]
    }
   ],
   "source": [
    "#%% DATA INFO\n",
    "\n",
    "df_amazon.info()\n",
    "print('Null values:\\n', pd.isnull(df_amazon).sum())\n",
    "print('Styatistic description:\\n', df_amazon.describe())"
   ]
  },
  {
   "cell_type": "code",
   "execution_count": 12,
   "id": "af90f233",
   "metadata": {},
   "outputs": [
    {
     "data": {
      "text/plain": [
       "<Figure size 640x480 with 0 Axes>"
      ]
     },
     "metadata": {},
     "output_type": "display_data"
    },
    {
     "data": {
      "image/png": "[encoded data removed]",
      "text/plain": [
       "<Figure size 800x300 with 1 Axes>"
      ]
     },
     "metadata": {},
     "output_type": "display_data"
    }
   ],
   "source": [
    "#%% EDA\n",
    "\n",
    "def bar_chart_class(dataset, feature):\n",
    "    \n",
    "    other = dataset[dataset['class'] == 0][feature].value_counts()\n",
    "    violent = dataset[dataset['class'] == 1][feature].value_counts()\n",
    "    df = pd.DataFrame([other, violent])\n",
    "    df.index = ['Good', 'Bad']\n",
    "    plt.figure()\n",
    "    df.plot(kind = 'bar', stacked = True, figsize = (8,3))\n",
    "    plt.legend(['Good: {}'.format(np.array(other)), 'Bad: {}'.format(np.array(violent))])\n",
    "    plt.title('Reviews by class')\n",
    "\n",
    "bar_chart_class(df_amazon, 'class')\n"
   ]
  },
  {
   "cell_type": "code",
   "execution_count": 6,
   "id": "47cae9cf",
   "metadata": {},
   "outputs": [],
   "source": [
    "#%% ENGLISH TEXT CLEANING \n",
    "\n",
    "import re\n",
    "\n",
    "def clean_text_eng(text):\n",
    "\n",
    "    text = text.lower()\n",
    "    text = re.sub(r\"  \", \" \", text)\n",
    "    text = re.sub(r\"i'm\", \"i am\", text)\n",
    "    text = re.sub(r\"he's\", \"he is\", text)\n",
    "    text = re.sub(r\"she's\", \"she is\", text)\n",
    "    text = re.sub(r\"it's\", \"it is\", text)\n",
    "    text = re.sub(r\"that's\", \"that is\", text)\n",
    "    text = re.sub(r\"what's\", \"that is\", text)\n",
    "    text = re.sub(r\"where's\", \"where is\", text)\n",
    "    text = re.sub(r\"how's\", \"how is\", text)\n",
    "    text = re.sub(r\"let's\", \"let us\", text)\n",
    "    text = re.sub(r\"\\'ll\", \" will\", text)\n",
    "    text = re.sub(r\"\\'ve\", \" have\", text)\n",
    "    text = re.sub(r\"\\'re\", \" are\", text)\n",
    "    text = re.sub(r\"\\'d\", \" would\", text)\n",
    "    text = re.sub(r\"\\'re\", \" are\", text)\n",
    "    text = re.sub(r\"won't\", \"will not\", text)\n",
    "    text = re.sub(r\"can't\", \"cannot\", text)\n",
    "    text = re.sub(r\"n't\", \" not\", text)\n",
    "    text = re.sub(r\"n'\", \"ng\", text)\n",
    "    text = re.sub(r\"'bout\", \"about\", text)\n",
    "    text = re.sub(r\"'til\", \"until\", text)\n",
    "    text = re.sub(r\"[-()\\\"#/@;:<>{}`+=~|.!?,]\", \"\", text)\n",
    "    \n",
    "    return text \n",
    "\n",
    "review_clean = []\n",
    "length_review_clean = []\n",
    "\n",
    "for k, element in enumerate(df_amazon['review']):\n",
    "    review_clean.append(clean_text_eng(element))\n",
    "    length_review_clean.append(len(review_clean[k].split()))\n"
   ]
  },
  {
   "cell_type": "code",
   "execution_count": 8,
   "id": "d2e4876e",
   "metadata": {},
   "outputs": [
    {
     "data": {
      "text/html": [
       "<div>\n",
       "<style scoped>\n",
       "    .dataframe tbody tr th:only-of-type {\n",
       "        vertical-align: middle;\n",
       "    }\n",
       "\n",
       "    .dataframe tbody tr th {\n",
       "        vertical-align: top;\n",
       "    }\n",
       "\n",
       "    .dataframe thead th {\n",
       "        text-align: right;\n",
       "    }\n",
       "</style>\n",
       "<table border=\"1\" class=\"dataframe\">\n",
       "  <thead>\n",
       "    <tr style=\"text-align: right;\">\n",
       "      <th></th>\n",
       "      <th>review</th>\n",
       "      <th>class</th>\n",
       "      <th>review_clean</th>\n",
       "      <th>length_review_clean</th>\n",
       "    </tr>\n",
       "  </thead>\n",
       "  <tbody>\n",
       "    <tr>\n",
       "      <th>0</th>\n",
       "      <td>So there is no way for me to plug it in here i...</td>\n",
       "      <td>0</td>\n",
       "      <td>so there is no way for me to plug it in here i...</td>\n",
       "      <td>21</td>\n",
       "    </tr>\n",
       "    <tr>\n",
       "      <th>1</th>\n",
       "      <td>Good case, Excellent value.</td>\n",
       "      <td>1</td>\n",
       "      <td>good case excellent value</td>\n",
       "      <td>4</td>\n",
       "    </tr>\n",
       "    <tr>\n",
       "      <th>2</th>\n",
       "      <td>Great for the jawbone.</td>\n",
       "      <td>1</td>\n",
       "      <td>great for the jawbone</td>\n",
       "      <td>4</td>\n",
       "    </tr>\n",
       "    <tr>\n",
       "      <th>3</th>\n",
       "      <td>Tied to charger for conversations lasting more...</td>\n",
       "      <td>0</td>\n",
       "      <td>tied to charger for conversations lasting more...</td>\n",
       "      <td>11</td>\n",
       "    </tr>\n",
       "    <tr>\n",
       "      <th>4</th>\n",
       "      <td>The mic is great.</td>\n",
       "      <td>1</td>\n",
       "      <td>the mic is great</td>\n",
       "      <td>4</td>\n",
       "    </tr>\n",
       "  </tbody>\n",
       "</table>\n",
       "</div>"
      ],
      "text/plain": [
       "                                              review  class  \\\n",
       "0  So there is no way for me to plug it in here i...      0   \n",
       "1                        Good case, Excellent value.      1   \n",
       "2                             Great for the jawbone.      1   \n",
       "3  Tied to charger for conversations lasting more...      0   \n",
       "4                                  The mic is great.      1   \n",
       "\n",
       "                                        review_clean  length_review_clean  \n",
       "0  so there is no way for me to plug it in here i...                   21  \n",
       "1                          good case excellent value                    4  \n",
       "2                              great for the jawbone                    4  \n",
       "3  tied to charger for conversations lasting more...                   11  \n",
       "4                                   the mic is great                    4  "
      ]
     },
     "execution_count": 8,
     "metadata": {},
     "output_type": "execute_result"
    }
   ],
   "source": [
    "#%% INSERTING NEW VARIABLES\n",
    "\n",
    "# df_data_2 = df_data.copy()\n",
    "df_amazon['review_clean'] = review_clean\n",
    "df_amazon['length_review_clean'] = length_review_clean\n",
    "\n",
    "df_amazon.head(5)"
   ]
  },
  {
   "cell_type": "code",
   "execution_count": 11,
   "id": "6deeb70a",
   "metadata": {},
   "outputs": [
    {
     "data": {
      "text/plain": [
       "Text(0.5, 1.0, 'Number of words per review')"
      ]
     },
     "execution_count": 11,
     "metadata": {},
     "output_type": "execute_result"
    },
    {
     "data": {
      "image/png": "[encoded data removed]",
      "text/plain": [
       "<Figure size 800x300 with 1 Axes>"
      ]
     },
     "metadata": {},
     "output_type": "display_data"
    }
   ],
   "source": [
    "#%% HISTOGRAM OF WHOLE DATASET LENGTH\n",
    "\n",
    "def bar_chart_full(dataset):\n",
    "    lengths = dataset['length_review_clean'].value_counts()\n",
    "    lengths = lengths.sort_index()\n",
    "    plt.figure()\n",
    "    lengths.plot(kind = 'bar', stacked = False, grid = False, figsize = (8,3), \n",
    "                 facecolor = 'blue', edgecolor = \"black\", alpha = 0.8)\n",
    "\n",
    "bar_chart_full(df_amazon)\n",
    "plt.xlabel('length of the review')\n",
    "plt.ylabel('Number of reviews')\n",
    "plt.title('Number of words per review')"
   ]
  },
  {
   "cell_type": "code",
   "execution_count": 13,
   "id": "240cc4e6",
   "metadata": {},
   "outputs": [
    {
     "name": "stderr",
     "output_type": "stream",
     "text": [
      "Some weights of the model checkpoint at bert-base-uncased were not used when initializing BertForSequenceClassification: ['cls.predictions.transform.dense.weight', 'cls.predictions.decoder.weight', 'cls.predictions.transform.dense.bias', 'cls.predictions.transform.LayerNorm.bias', 'cls.seq_relationship.bias', 'cls.predictions.bias', 'cls.predictions.transform.LayerNorm.weight', 'cls.seq_relationship.weight']\n",
      "- This IS expected if you are initializing BertForSequenceClassification from the checkpoint of a model trained on another task or with another architecture (e.g. initializing a BertForSequenceClassification model from a BertForPreTraining model).\n",
      "- This IS NOT expected if you are initializing BertForSequenceClassification from the checkpoint of a model that you expect to be exactly identical (initializing a BertForSequenceClassification model from a BertForSequenceClassification model).\n",
      "Some weights of BertForSequenceClassification were not initialized from the model checkpoint at bert-base-uncased and are newly initialized: ['classifier.weight', 'classifier.bias']\n",
      "You should probably TRAIN this model on a down-stream task to be able to use it for predictions and inference.\n"
     ]
    },
    {
     "data": {
      "text/plain": [
       "('C:/Users/erikycd/Documents/LLM/BERT_base_uncase_pt/tokenizer_config.json',\n",
       " 'C:/Users/erikycd/Documents/LLM/BERT_base_uncase_pt/special_tokens_map.json',\n",
       " 'C:/Users/erikycd/Documents/LLM/BERT_base_uncase_pt/vocab.txt',\n",
       " 'C:/Users/erikycd/Documents/LLM/BERT_base_uncase_pt/added_tokens.json')"
      ]
     },
     "execution_count": 13,
     "metadata": {},
     "output_type": "execute_result"
    }
   ],
   "source": [
    "#%% DOWNLOADING AND SAVING MODEL/TOKENIZER FROM HUGGINGFACE\n",
    "\n",
    "tokenizer = BertTokenizer.from_pretrained(\"bert-base-uncased\")\n",
    "model = BertForSequenceClassification.from_pretrained(\"bert-base-uncased\", num_labels = 2)\n",
    "\n",
    "\n",
    "### SAVING IN LOCAL DIRECTORY\n",
    "import os\n",
    "\n",
    "output_dir = './BERT_base_uncase_pt/'\n",
    "\n",
    "# Create output directory if needed\n",
    "if not os.path.exists(output_dir):\n",
    "    os.makedirs(output_dir)\n",
    "\n",
    "model.save_pretrained(output_dir)\n",
    "tokenizer.save_pretrained(output_dir)\n"
   ]
  },
  {
   "cell_type": "code",
   "execution_count": 14,
   "id": "a761102b",
   "metadata": {},
   "outputs": [],
   "source": [
    "#%% LOADING MODEL FROM FILE\n",
    "\n",
    "output_dir = './BERT_base_uncase_pt/'\n",
    "\n",
    "model = BertForSequenceClassification.from_pretrained(output_dir,\n",
    "                                                      num_labels = 2,\n",
    "                                                      output_attentions = False,\n",
    "                                                      output_hidden_states = False)\n",
    "\n",
    "tokenizer = BertTokenizer.from_pretrained(output_dir)\n",
    "\n",
    "model = model.to(device)"
   ]
  },
  {
   "cell_type": "code",
   "execution_count": 16,
   "id": "2c548380",
   "metadata": {},
   "outputs": [
    {
     "name": "stdout",
     "output_type": "stream",
     "text": [
      "PreTrainedTokenizer(name_or_path='C:/Users/erikycd/Documents/LLM/BERT_base_uncase_pt/', vocab_size=30522, model_max_len=512, is_fast=False, padding_side='right', truncation_side='right', special_tokens={'unk_token': '[UNK]', 'sep_token': '[SEP]', 'pad_token': '[PAD]', 'cls_token': '[CLS]', 'mask_token': '[MASK]'})\n",
      "Length of tokenizer: 30522\n",
      "The padding token is [PAD] and the ID for the PAD token is 0.\n",
      "The unknown token is [UNK] and the ID for the unkown token is 100.\n",
      "The seperator token is [SEP] and the ID for the seperator token is 102.\n",
      "The sentence level classification token is [CLS] and the ID for the classification token is 101.\n",
      "The mask token is [MASK] and the ID for the mask token is 103.\n"
     ]
    }
   ],
   "source": [
    "#%% PRINTING SPECIAL TOKENS \n",
    "\n",
    "print(tokenizer)\n",
    "print('Length of tokenizer:', tokenizer.vocab_size)\n",
    "\n",
    "print(f'The padding token is {tokenizer.pad_token} and the ID for the PAD token is {tokenizer.pad_token_id}.')\n",
    "print(f'The unknown token is {tokenizer.unk_token} and the ID for the unkown token is {tokenizer.unk_token_id}.')\n",
    "print(f'The seperator token is {tokenizer.sep_token} and the ID for the seperator token is {tokenizer.sep_token_id}.')\n",
    "print(f'The sentence level classification token is {tokenizer.cls_token} and the ID for the classification token is {tokenizer.cls_token_id}.')\n",
    "print(f'The mask token is {tokenizer.mask_token} and the ID for the mask token is {tokenizer.mask_token_id}.')"
   ]
  },
  {
   "cell_type": "code",
   "execution_count": 17,
   "id": "2369ce51",
   "metadata": {},
   "outputs": [],
   "source": [
    "#%% FUNCTION FOR CLEANING DATA AND CONVERTING (TEXT -> PYTORCH TENSORS)\n",
    "### INPUTS: Data, Tokenizer\n",
    "### OUTPUTS: Encoded sentences, attention masks\n",
    "\n",
    "class ChatData_amazon:\n",
    "    \n",
    "    def __init__(self, data, tokenizer):\n",
    "        \n",
    "        reviews = list(data)\n",
    "        self.X = reviews\n",
    "\n",
    "        self.X_encoded = tokenizer(self.X,max_length = 40, \n",
    "                                   truncation = True, \n",
    "                                   padding = \"max_length\", \n",
    "                                   return_tensors = \"pt\")\n",
    "        self.input_ids = self.X_encoded['input_ids']\n",
    "        self.attention_mask = self.X_encoded['attention_mask']\n",
    "\n",
    "    def __len__(self):\n",
    "        return len(self.X)\n",
    "\n",
    "    def __getitem__(self, idx):\n",
    "        return (self.input_ids[idx], self.attention_mask[idx])\n"
   ]
  },
  {
   "cell_type": "code",
   "execution_count": 18,
   "id": "cfd7b159",
   "metadata": {},
   "outputs": [],
   "source": [
    "#%% TRAIN TEST SPLIT AND CHATDATA TENSOR\n",
    "\n",
    "from sklearn.model_selection import train_test_split\n",
    "\n",
    "X_train, X_valid, y_train, y_valid = train_test_split(df_amazon['review_clean'], \n",
    "                                                      df_amazon['class'], \n",
    "                                                      test_size = 0.2, \n",
    "                                                      random_state = 1, \n",
    "                                                      shuffle = False)\n",
    "\n",
    "chatData_train = ChatData_amazon(X_train, tokenizer)\n",
    "chatData_valid = ChatData_amazon(X_valid, tokenizer)"
   ]
  },
  {
   "cell_type": "code",
   "execution_count": 19,
   "id": "29d6472a",
   "metadata": {},
   "outputs": [
    {
     "name": "stdout",
     "output_type": "stream",
     "text": [
      "Review text:  and the sound quality is great\n",
      "Review encoded:  tensor([ 101, 1998, 1996, 2614, 3737, 2003, 2307,  102,    0,    0,    0,    0,\n",
      "           0,    0,    0,    0,    0,    0,    0,    0,    0,    0,    0,    0,\n",
      "           0,    0,    0,    0,    0,    0,    0,    0,    0,    0,    0,    0,\n",
      "           0,    0,    0,    0])\n",
      "Attention mask:  tensor([1, 1, 1, 1, 1, 1, 1, 1, 0, 0, 0, 0, 0, 0, 0, 0, 0, 0, 0, 0, 0, 0, 0, 0,\n",
      "        0, 0, 0, 0, 0, 0, 0, 0, 0, 0, 0, 0, 0, 0, 0, 0])\n",
      "Label:  1\n",
      "Review decoded:  [CLS] and the sound quality is great [SEP] [PAD] [PAD] [PAD] [PAD] [PAD] [PAD] [PAD] [PAD] [PAD] [PAD] [PAD] [PAD] [PAD] [PAD] [PAD] [PAD] [PAD] [PAD] [PAD] [PAD] [PAD] [PAD] [PAD] [PAD] [PAD] [PAD] [PAD] [PAD] [PAD] [PAD] [PAD] [PAD]\n"
     ]
    }
   ],
   "source": [
    "#%% CHATDATA EXAMPLE\n",
    "\n",
    "ejemplo = 10\n",
    "\n",
    "sentence = chatData_train.X[ejemplo]\n",
    "sentence_encoded = chatData_train.input_ids[ejemplo]\n",
    "sentence_attn = chatData_train.attention_mask[ejemplo]\n",
    "\n",
    "print('Review text: ', sentence)\n",
    "print('Review encoded: ', sentence_encoded)\n",
    "print('Attention mask: ', sentence_attn)\n",
    "print('Label: ', y_train[ejemplo])\n",
    "\n",
    "sentence_decoded = tokenizer.decode(sentence_encoded)\n",
    "print('Review decoded: ', sentence_decoded)"
   ]
  },
  {
   "cell_type": "code",
   "execution_count": 20,
   "id": "e4853c70",
   "metadata": {},
   "outputs": [],
   "source": [
    "#%% CONCATENATION OF TOKENIZATION, MASKS AND LABELS\n",
    "\n",
    "train_set = TensorDataset(chatData_train.input_ids,\n",
    "                          chatData_train.attention_mask,\n",
    "                          torch.tensor(np.array(y_train))\n",
    "                          )\n",
    "\n",
    "valid_set = TensorDataset(chatData_valid.input_ids,\n",
    "                          chatData_valid.attention_mask,\n",
    "                          torch.tensor(np.array(y_valid))\n",
    "                          )"
   ]
  },
  {
   "cell_type": "code",
   "execution_count": 21,
   "id": "4a560436",
   "metadata": {},
   "outputs": [],
   "source": [
    "#%% PYTORCH DATA LOADER\n",
    "\n",
    "batch_sizes = 32\n",
    "\n",
    "train_dataloader = DataLoader(train_set,  # training instances\n",
    "                              sampler = RandomSampler(train_set), # Pull out batches randomly\n",
    "                              batch_size = batch_sizes # train with this batch size.\n",
    "                              )\n",
    "\n",
    "valid_dataloader = DataLoader(valid_set,  # training instances\n",
    "                              sampler = RandomSampler(valid_set), # Pull out batches randomly\n",
    "                              batch_size = batch_sizes # train with this batch size.\n",
    "                              )"
   ]
  },
  {
   "cell_type": "code",
   "execution_count": 22,
   "id": "addfa667",
   "metadata": {},
   "outputs": [],
   "source": [
    "#%% METRICS FOR VALIDATION\n",
    "\n",
    "def b_tp(preds, labels):\n",
    "    '''Returns True Positives (TP): count of correct predictions of actual class 1'''\n",
    "    return sum([preds == labels and preds == 1 for preds, labels in zip(preds, labels)])\n",
    "\n",
    "def b_fp(preds, labels):\n",
    "    '''Returns False Positives (FP): count of wrong predictions of actual class 1'''\n",
    "    return sum([preds != labels and preds == 1 for preds, labels in zip(preds, labels)])\n",
    "\n",
    "def b_tn(preds, labels):\n",
    "    '''Returns True Negatives (TN): count of correct predictions of actual class 0'''\n",
    "    return sum([preds == labels and preds == 0 for preds, labels in zip(preds, labels)])\n",
    "\n",
    "def b_fn(preds, labels):\n",
    "    '''Returns False Negatives (FN): count of wrong predictions of actual class 0'''\n",
    "    return sum([preds != labels and preds == 0 for preds, labels in zip(preds, labels)])\n",
    "\n",
    "def b_metrics(preds, labels):\n",
    "    '''\n",
    "    Returns the following metrics:\n",
    "      - accuracy    = (TP + TN) / N\n",
    "      - precision   = TP / (TP + FP)\n",
    "      - recall      = TP / (TP + FN)\n",
    "      - specificity = TN / (TN + FP)\n",
    "    '''\n",
    "    preds = np.argmax(preds, axis = 1).flatten()\n",
    "    labels = labels.flatten()\n",
    "    tp = b_tp(preds, labels)\n",
    "    tn = b_tn(preds, labels)\n",
    "    fp = b_fp(preds, labels)\n",
    "    fn = b_fn(preds, labels)\n",
    "    b_accuracy = (tp + tn) / len(labels)\n",
    "    b_precision = tp / (tp + fp) if (tp + fp) > 0 else 'nan'\n",
    "    b_recall = tp / (tp + fn) if (tp + fn) > 0 else 'nan'\n",
    "    b_specificity = tn / (tn + fp) if (tn + fp) > 0 else 'nan'\n",
    "    \n",
    "    return b_accuracy, b_precision, b_recall, b_specificity"
   ]
  },
  {
   "cell_type": "code",
   "execution_count": 23,
   "id": "cea19f8d",
   "metadata": {},
   "outputs": [
    {
     "name": "stderr",
     "output_type": "stream",
     "text": [
      "\r",
      "  0%|                                                                                            | 0/5 [00:00<?, ?it/s]"
     ]
    },
    {
     "name": "stdout",
     "output_type": "stream",
     "text": [
      "\n",
      "Training...\n"
     ]
    },
    {
     "name": "stderr",
     "output_type": "stream",
     "text": [
      "\r",
      " 20%|████████████████▊                                                                   | 1/5 [00:03<00:15,  3.86s/it]"
     ]
    },
    {
     "name": "stdout",
     "output_type": "stream",
     "text": [
      "\n",
      "\t - Train loss: 0.0262\n",
      "\t - Validation Accuracy: 0.8705\n",
      "\t - Validation Precision: 0.9036\n",
      "\t - Validation Recall: 0.8266\n",
      "\t - Validation Specificity: 0.9278\n",
      "\n",
      "\n",
      "Training...\n"
     ]
    },
    {
     "name": "stderr",
     "output_type": "stream",
     "text": [
      "\r",
      " 40%|█████████████████████████████████▌                                                  | 2/5 [00:05<00:06,  2.29s/it]"
     ]
    },
    {
     "name": "stdout",
     "output_type": "stream",
     "text": [
      "\n",
      "\t - Train loss: 0.0125\n",
      "\t - Validation Accuracy: 0.9509\n",
      "\t - Validation Precision: 0.9410\n",
      "\t - Validation Recall: 0.9538\n",
      "\t - Validation Specificity: 0.9507\n",
      "\n",
      "\n",
      "Training...\n"
     ]
    },
    {
     "name": "stderr",
     "output_type": "stream",
     "text": [
      "\r",
      " 60%|██████████████████████████████████████████████████▍                                 | 3/5 [00:06<00:03,  1.79s/it]"
     ]
    },
    {
     "name": "stdout",
     "output_type": "stream",
     "text": [
      "\n",
      "\t - Train loss: 0.0128\n",
      "\t - Validation Accuracy: 0.9420\n",
      "\t - Validation Precision: 0.8204\n",
      "\t - Validation Recall: 0.9447\n",
      "\t - Validation Specificity: 0.9468\n",
      "\n",
      "\n",
      "Training...\n"
     ]
    },
    {
     "name": "stderr",
     "output_type": "stream",
     "text": [
      "\r",
      " 80%|███████████████████████████████████████████████████████████████████▏                | 4/5 [00:07<00:01,  1.56s/it]"
     ]
    },
    {
     "name": "stdout",
     "output_type": "stream",
     "text": [
      "\n",
      "\t - Train loss: 0.0042\n",
      "\t - Validation Accuracy: 0.9375\n",
      "\t - Validation Precision: 0.9303\n",
      "\t - Validation Recall: 0.9094\n",
      "\t - Validation Specificity: 0.9330\n",
      "\n",
      "\n",
      "Training...\n"
     ]
    },
    {
     "name": "stderr",
     "output_type": "stream",
     "text": [
      "100%|████████████████████████████████████████████████████████████████████████████████████| 5/5 [00:08<00:00,  1.73s/it]"
     ]
    },
    {
     "name": "stdout",
     "output_type": "stream",
     "text": [
      "\n",
      "\t - Train loss: 0.0052\n",
      "\t - Validation Accuracy: 0.9509\n",
      "\t - Validation Precision: 0.9517\n",
      "\t - Validation Recall: 0.9333\n",
      "\t - Validation Specificity: 0.9590\n",
      "\n"
     ]
    },
    {
     "name": "stderr",
     "output_type": "stream",
     "text": [
      "\n"
     ]
    }
   ],
   "source": [
    "#%% TRAINING STAGE\n",
    "\n",
    "import time\n",
    "from transformers import get_linear_schedule_with_warmup\n",
    "\n",
    "epochs = 5\n",
    "learning_rate = 1e-5\n",
    "total_steps = len(train_dataloader) * epochs\n",
    "\n",
    "optimizer = torch.optim.AdamW(model.parameters(),\n",
    "                              lr = learning_rate,\n",
    "                              )\n",
    "\n",
    "scheduler = get_linear_schedule_with_warmup(optimizer, \n",
    "                                            num_warmup_steps = 0,\n",
    "                                            num_training_steps = total_steps)\n",
    "\n",
    "for epoch in tqdm.tqdm(range(epochs)):\n",
    "    \n",
    "    print('\\nTraining...')\n",
    "    total_train_loss = 0\n",
    "    total_correct = 0\n",
    "    total_count = 0\n",
    "    nb_tr_steps = 0\n",
    "    \n",
    "    # =================================== Training ===================================\n",
    "    model.train()\n",
    "    \n",
    "    for step, batch in enumerate(train_dataloader):\n",
    "        \n",
    "        # batch = tuple(t.to(device) for t in batch)\n",
    "        # b_input_ids, b_masks, b_labels = batch\n",
    "        \n",
    "        b_input_ids = batch[0].to(device)\n",
    "        b_masks = batch[1].to(device)\n",
    "        b_labels = batch[2].to(device)\n",
    "\n",
    "        optimizer.zero_grad()\n",
    "\n",
    "        outputs = model(b_input_ids,\n",
    "                        attention_mask = b_masks,\n",
    "                        token_type_ids = None,\n",
    "                        labels = b_labels)\n",
    "\n",
    "        outputs.loss.backward()\n",
    "        optimizer.step()\n",
    "\n",
    "        batch_loss = outputs.loss.item()\n",
    "        total_train_loss += batch_loss\n",
    "        nb_tr_steps += 1\n",
    "\n",
    "    # torch.save(model.state_dict(), \"model_state.pt\")\n",
    "    # print(inference('hello, how are you?'))\n",
    "    \n",
    "    # =================================== Validation ===================================\n",
    "    model.eval()\n",
    "    \n",
    "    val_accuracy = []\n",
    "    val_precision = []\n",
    "    val_recall = []\n",
    "    val_specificity = []\n",
    "    \n",
    "    for batch in valid_dataloader:\n",
    "        \n",
    "        b_input_ids = batch[0].to(device)\n",
    "        b_masks = batch[1].to(device)\n",
    "        b_labels = batch[2].to(device)\n",
    "        \n",
    "        with torch.no_grad():\n",
    "            \n",
    "            eval_output = model(b_input_ids,\n",
    "                                attention_mask = b_masks,\n",
    "                                token_type_ids = None)\n",
    "            \n",
    "        logits = eval_output.logits.detach().cpu().numpy()\n",
    "        labels_ids = b_labels.to('cpu').numpy()\n",
    "        b_accuracy, b_precision, b_recall, b_specificity = b_metrics(logits, labels_ids)\n",
    "        val_accuracy.append(b_accuracy)\n",
    "        \n",
    "        if b_precision != 'nan': val_precision.append(b_precision)\n",
    "        # Update recall only when (tp + fn) !=0; ignore nan\n",
    "        if b_recall != 'nan': val_recall.append(b_recall)\n",
    "        # Update specificity only when (tn + fp) !=0; ignore nan\n",
    "        if b_specificity != 'nan': val_specificity.append(b_specificity)\n",
    "        \n",
    "    print('\\n\\t - Train loss: {:.4f}'.format(batch_loss / nb_tr_steps))\n",
    "    print('\\t - Validation Accuracy: {:.4f}'.format(sum(val_accuracy)/len(val_accuracy)))\n",
    "    print('\\t - Validation Precision: {:.4f}'.format(sum(val_precision)/len(val_precision)) if len(val_precision)>0 else '\\t - Validation Precision: NaN')\n",
    "    print('\\t - Validation Recall: {:.4f}'.format(sum(val_recall)/len(val_recall)) if len(val_recall)>0 else '\\t - Validation Recall: NaN')\n",
    "    print('\\t - Validation Specificity: {:.4f}\\n'.format(sum(val_specificity)/len(val_specificity)) if len(val_specificity)>0 else '\\t - Validation Specificity: NaN')\n"
   ]
  },
  {
   "cell_type": "code",
   "execution_count": null,
   "id": "739d8b77",
   "metadata": {},
   "outputs": [],
   "source": [
    "#%% SAVING MODEL AND TOKENIZER\n",
    "\n",
    "import os\n",
    "\n",
    "output_dir = './BERT_base_uncase_pt_pretrained/'\n",
    "\n",
    "# Create output directory if needed\n",
    "if not os.path.exists(output_dir):\n",
    "    os.makedirs(output_dir)\n",
    "\n",
    "print(\"Saving model to %s\" % output_dir)\n",
    "\n",
    "model_to_save = model.module if hasattr(model, 'module') else model  # Take care of distributed/parallel training\n",
    "model_to_save.save_pretrained(output_dir)\n",
    "tokenizer.save_pretrained(output_dir)\n",
    "\n",
    "print('Model saved!')"
   ]
  }
 ],
 "metadata": {
  "kernelspec": {
   "display_name": "Python 3 (ipykernel)",
   "language": "python",
   "name": "python3"
  },
  "language_info": {
   "codemirror_mode": {
    "name": "ipython",
    "version": 3
   },
   "file_extension": ".py",
   "mimetype": "text/x-python",
   "name": "python",
   "nbconvert_exporter": "python",
   "pygments_lexer": "ipython3",
   "version": "3.9.0"
  }
 },
 "nbformat": 4,
 "nbformat_minor": 5
}
